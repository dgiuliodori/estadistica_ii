{
 "cells": [
  {
   "cell_type": "code",
   "execution_count": 1,
   "metadata": {},
   "outputs": [
    {
     "name": "stdout",
     "output_type": "stream",
     "text": [
      "Prueba de hipotesis de  2  cola.\n",
      "Nivel de significancia = 0.05\n",
      "Proporción muestral = 0.8125\n",
      "Z observado = -1.3284223283101422\n",
      "p valor =  0.1840386271964256\n",
      "No se rechaza la hipotesis nula\n"
     ]
    }
   ],
   "source": [
    "# Prueba Z para proporcion - una muestra\n",
    "# Librerias\n",
    "import numpy as np\n",
    "from scipy import stats\n",
    "from scipy.stats import norm\n",
    "from statsmodels.stats import weightstats as stests\n",
    "import statistics \n",
    "from statistics import stdev\n",
    "\n",
    "# Proporcion bajo hipotesis nula (valor entre 0 y 1)\n",
    "P0=0.85\n",
    "# Nivel de significancia\n",
    "alfa=0.05\n",
    "# Casos favorables (valor entero menor o igual a n)\n",
    "X=130\n",
    "# n de la muestra\n",
    "n=160\n",
    "\n",
    "#sides -- 1: una cola; 2: dos colas\n",
    "sides=2\n",
    "\n",
    "def prueba_z(X,n,P0,alfa,sides):\n",
    "    P=X/n\n",
    "    z_obs = (P-P0)/(P0*(1-P0)/n)**0.5 \n",
    "    p_value = norm.sf(abs(z_obs))*sides\n",
    "    if p_value > alfa:\n",
    "        conclusion='No se rechaza la hipotesis nula'\n",
    "    else:\n",
    "        conclusion='Se rechaza la hipotesis nula'\n",
    "    return z_obs,p_value,conclusion,P\n",
    "\n",
    "z_obs,p_value,conclusion,P = prueba_z(X,n,P0,alfa,sides)\n",
    "\n",
    "print(\"Prueba de hipotesis de \",sides,\" cola.\")\n",
    "print(\"Nivel de significancia =\",alfa)\n",
    "print(\"Proporción muestral =\",P)\n",
    "print(\"Z observado =\",z_obs)\n",
    "print(\"p valor = \",p_value)\n",
    "print(conclusion)"
   ]
  },
  {
   "cell_type": "code",
   "execution_count": null,
   "metadata": {},
   "outputs": [],
   "source": []
  }
 ],
 "metadata": {
  "kernelspec": {
   "display_name": "Python 3",
   "language": "python",
   "name": "python3"
  },
  "language_info": {
   "codemirror_mode": {
    "name": "ipython",
    "version": 3
   },
   "file_extension": ".py",
   "mimetype": "text/x-python",
   "name": "python",
   "nbconvert_exporter": "python",
   "pygments_lexer": "ipython3",
   "version": "3.7.6"
  }
 },
 "nbformat": 4,
 "nbformat_minor": 4
}
