{
 "cells": [
  {
   "cell_type": "code",
   "execution_count": 3,
   "metadata": {},
   "outputs": [
    {
     "name": "stdout",
     "output_type": "stream",
     "text": [
      "Frecuencias Observadas: [[506, 494], [438, 162]]\n",
      "Frecuencias Esperadas: [[590. 410.]\n",
      " [354. 246.]]\n",
      "Grados de Libertad = 1\n",
      "Chi2 observado = 77.78420835055809\n",
      "p valor =  1.1493539476186201e-18\n",
      "Se rechaza la hipotesis nula\n"
     ]
    }
   ],
   "source": [
    "# Example of the Chi-Squared Test\n",
    "#Librerias\n",
    "from scipy.stats import chi2_contingency\n",
    "\n",
    "# Nivel de significancia\n",
    "alfa=0.05\n",
    "# Datos muestrales en formato de tabla\n",
    "table = [[506,494],[438,162]]\n",
    "\n",
    "chi2_obs, p_value, dof, expected = chi2_contingency(table, correction=False)\n",
    "\n",
    "print(\"Frecuencias Observadas:\", table)\n",
    "print(\"Frecuencias Esperadas:\", expected)\n",
    "print(\"Grados de Libertad =\", dof)\n",
    "print(\"Chi2 observado =\",chi2_obs)\n",
    "print(\"p valor = \",p_value)\n",
    "\n",
    "if p_value < alfa:    \n",
    "   print(\"Se rechaza la hipotesis nula\")\n",
    "else:\n",
    "   print(\"No se rechaza la hipotesis nula\")"
   ]
  },
  {
   "cell_type": "code",
   "execution_count": null,
   "metadata": {},
   "outputs": [],
   "source": []
  }
 ],
 "metadata": {
  "kernelspec": {
   "display_name": "Python 3",
   "language": "python",
   "name": "python3"
  },
  "language_info": {
   "codemirror_mode": {
    "name": "ipython",
    "version": 3
   },
   "file_extension": ".py",
   "mimetype": "text/x-python",
   "name": "python",
   "nbconvert_exporter": "python",
   "pygments_lexer": "ipython3",
   "version": "3.7.6"
  }
 },
 "nbformat": 4,
 "nbformat_minor": 4
}
