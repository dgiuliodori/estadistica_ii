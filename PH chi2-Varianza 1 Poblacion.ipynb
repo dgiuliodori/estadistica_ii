{
 "cells": [
  {
   "cell_type": "code",
   "execution_count": 38,
   "metadata": {},
   "outputs": [
    {
     "name": "stdout",
     "output_type": "stream",
     "text": [
      "Prueba de hipotesis de  1  cola.\n",
      "Nivel de significancia = 0.05\n",
      "Chi2 observado = 17.551888899999984\n",
      "p valor =  0.04074305047051333\n",
      "Se rechaza la hipotesis nula\n"
     ]
    }
   ],
   "source": [
    "# Graficando Chi para varianza\n",
    "# Librerias\n",
    "import numpy as np\n",
    "from scipy import stats\n",
    "from scipy.stats import chi2\n",
    "from statsmodels.stats import weightstats as stests\n",
    "import statistics \n",
    "from statistics import stdev\n",
    "\n",
    "# Varianza poblacional bajo hipotesis nula\n",
    "var0=10**2\n",
    "# Nivel de significancia\n",
    "alfa=0.05\n",
    "# Datos muestrales\n",
    "data=[293.91,305.70,315.47,321.10,302.15,326.82,281.47,299.19,305.10,320.38]\n",
    "\n",
    "#sides -- 1: una cola; 2: dos colas\n",
    "sides=1\n",
    "\n",
    "def prueba_chi(data,alfa,sides):\n",
    "    n = len(data)\n",
    "    data_mean = np.mean(data)\n",
    "    \n",
    "    data_sd = stdev( data, data_mean )\n",
    "    chi_obs = ((n-1)*data_sd**2)/var0\n",
    "    p_value = chi2.sf(chi_obs,n-1)*sides\n",
    "    if p_value > alfa:\n",
    "        conclusion='No se rechaza la hipotesis nula'\n",
    "    else:\n",
    "        conclusion='Se rechaza la hipotesis nula'\n",
    "    return chi_obs,p_value,conclusion,data_sd\n",
    "\n",
    "chi_obs,p_value,conclusion,data_sd = prueba_chi(data,alfa,sides)\n",
    "\n",
    "print(\"Prueba de hipotesis de \",sides,\" cola.\")\n",
    "print(\"Nivel de significancia =\",alfa)\n",
    "print(\"Chi2 observado =\",chi_obs)\n",
    "print(\"p valor = \",p_value)\n",
    "print(conclusion)\n"
   ]
  },
  {
   "cell_type": "code",
   "execution_count": null,
   "metadata": {},
   "outputs": [],
   "source": []
  }
 ],
 "metadata": {
  "kernelspec": {
   "display_name": "Python 3",
   "language": "python",
   "name": "python3"
  },
  "language_info": {
   "codemirror_mode": {
    "name": "ipython",
    "version": 3
   },
   "file_extension": ".py",
   "mimetype": "text/x-python",
   "name": "python",
   "nbconvert_exporter": "python",
   "pygments_lexer": "ipython3",
   "version": "3.7.6"
  }
 },
 "nbformat": 4,
 "nbformat_minor": 4
}
