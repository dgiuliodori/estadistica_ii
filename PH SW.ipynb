{
 "cells": [
  {
   "cell_type": "code",
   "execution_count": 6,
   "metadata": {},
   "outputs": [
    {
     "name": "stdout",
     "output_type": "stream",
     "text": [
      "No se rechaza la hipotesis nula\n",
      "SW observado =  0.9775175452232361\n",
      "p valor =  0.949718713760376\n"
     ]
    }
   ],
   "source": [
    "# Libreria\n",
    "from scipy.stats import shapiro\n",
    "\n",
    "# Nivel de significancia\n",
    "alfa=0.50\n",
    "# Datos muestrales\n",
    "data=[14.51,17.31,12.39,15.84,13.51,21.98,13.83,\n",
    "      8.13,12.37,14.91,17.75,16.28,19.89,20.95,11.85]\n",
    "\n",
    "sw_obs, p_value = shapiro(data)\n",
    "if p_value < alfa:    \n",
    "   print(\"Se rechaza la hipotesis nula\")\n",
    "else:\n",
    "   print(\"No se rechaza la hipotesis nula\")\n",
    "\n",
    "print(\"SW observado = \", sw_obs)\n",
    "print(\"p valor = \",p_value)"
   ]
  },
  {
   "cell_type": "code",
   "execution_count": null,
   "metadata": {},
   "outputs": [],
   "source": []
  }
 ],
 "metadata": {
  "kernelspec": {
   "display_name": "Python 3",
   "language": "python",
   "name": "python3"
  },
  "language_info": {
   "codemirror_mode": {
    "name": "ipython",
    "version": 3
   },
   "file_extension": ".py",
   "mimetype": "text/x-python",
   "name": "python",
   "nbconvert_exporter": "python",
   "pygments_lexer": "ipython3",
   "version": "3.7.6"
  }
 },
 "nbformat": 4,
 "nbformat_minor": 4
}
