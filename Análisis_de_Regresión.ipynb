{
  "nbformat": 4,
  "nbformat_minor": 0,
  "metadata": {
    "kernelspec": {
      "display_name": "Python 3",
      "language": "python",
      "name": "python3"
    },
    "language_info": {
      "codemirror_mode": {
        "name": "ipython",
        "version": 3
      },
      "file_extension": ".py",
      "mimetype": "text/x-python",
      "name": "python",
      "nbconvert_exporter": "python",
      "pygments_lexer": "ipython3",
      "version": "3.7.6"
    },
    "colab": {
      "provenance": []
    }
  },
  "cells": [
    {
      "cell_type": "code",
      "metadata": {
        "id": "E7lTXtO21ZJa",
        "outputId": "ebe64104-b278-493b-c82b-ee26d09b3ea5",
        "colab": {
          "base_uri": "https://localhost:8080/"
        }
      },
      "source": [
        "import statsmodels.api as sm\n",
        "import numpy as np\n",
        "\n",
        "# Datos de todas las variables exogenas del modelo. Si se desea\n",
        "# estimar con constante, se debe incluir un uno como primer vector\n",
        "x = [[1,176],\n",
        "    [1,168],\n",
        "    [1,170],\n",
        "    [1,151],\n",
        "    [1,171],\n",
        "    [1,162],\n",
        "    [1,156],\n",
        "    [1,160],\n",
        "    [1,175],\n",
        "    [1,155],\n",
        "    [1,165],\n",
        "    [1,160],\n",
        "    [1,170],\n",
        "    [1,165],\n",
        "    [1,165],\n",
        "    [1,165],\n",
        "    [1,165],\n",
        "    [1,152],\n",
        "    [1,172]]\n",
        "\n",
        "# Datos de la variable de respuesta y\n",
        "y = [60,75,65,67,68,63,56,70,86,55,90,95,130,70,75,63,80,70,67]\n",
        "\n",
        "x, y = np.array(x), np.array(y)\n",
        "if x.shape[0]!=y.shape[0]:\n",
        "    print(\"Error en la dimension de los arreglos x e y\")\n",
        "elif x.shape[0]==y.shape[0]:\n",
        "    results = sm.OLS(y,x).fit()\n",
        "    print(results.summary())"
      ],
      "execution_count": 4,
      "outputs": [
        {
          "output_type": "stream",
          "name": "stdout",
          "text": [
            "                            OLS Regression Results                            \n",
            "==============================================================================\n",
            "Dep. Variable:                      y   R-squared:                       0.062\n",
            "Model:                            OLS   Adj. R-squared:                  0.007\n",
            "Method:                 Least Squares   F-statistic:                     1.127\n",
            "Date:                Fri, 14 Oct 2022   Prob (F-statistic):              0.303\n",
            "Time:                        14:51:40   Log-Likelihood:                -80.024\n",
            "No. Observations:                  19   AIC:                             164.0\n",
            "Df Residuals:                      17   BIC:                             165.9\n",
            "Df Model:                           1                                         \n",
            "Covariance Type:            nonrobust                                         \n",
            "==============================================================================\n",
            "                 coef    std err          t      P>|t|      [0.025      0.975]\n",
            "------------------------------------------------------------------------------\n",
            "const        -23.1222     91.542     -0.253      0.804    -216.259     170.014\n",
            "x1             0.5906      0.556      1.061      0.303      -0.583       1.764\n",
            "==============================================================================\n",
            "Omnibus:                       17.414   Durbin-Watson:                   1.395\n",
            "Prob(Omnibus):                  0.000   Jarque-Bera (JB):               17.873\n",
            "Skew:                           1.738   Prob(JB):                     0.000131\n",
            "Kurtosis:                       6.240   Cond. No.                     3.80e+03\n",
            "==============================================================================\n",
            "\n",
            "Notes:\n",
            "[1] Standard Errors assume that the covariance matrix of the errors is correctly specified.\n",
            "[2] The condition number is large, 3.8e+03. This might indicate that there are\n",
            "strong multicollinearity or other numerical problems.\n"
          ]
        },
        {
          "output_type": "stream",
          "name": "stderr",
          "text": [
            "/usr/local/lib/python3.7/dist-packages/scipy/stats/stats.py:1542: UserWarning: kurtosistest only valid for n>=20 ... continuing anyway, n=19\n",
            "  \"anyway, n=%i\" % int(n))\n"
          ]
        }
      ]
    },
    {
      "cell_type": "code",
      "source": [
        "import pandas as pd\n",
        "import numpy as np\n",
        "import statsmodels.api as sm\n",
        "import statsmodels.formula.api as smf"
      ],
      "metadata": {
        "id": "gzyENjb0A6Ws"
      },
      "execution_count": 6,
      "outputs": []
    },
    {
      "cell_type": "code",
      "source": [
        "df = pd.DataFrame()\n",
        "df['y']=y\n",
        "df['x']=x[:,1]\n",
        "\n",
        "lineal = smf.ols(formula='y~x',data=df)\n",
        "lineal_resultados = lineal.fit()\n",
        "print(lineal_resultados.summary())"
      ],
      "metadata": {
        "colab": {
          "base_uri": "https://localhost:8080/"
        },
        "id": "0D4-dFEsA7Pq",
        "outputId": "9dc1a19a-b8f4-4c01-a8a2-e5ac56b84648"
      },
      "execution_count": 16,
      "outputs": [
        {
          "output_type": "stream",
          "name": "stdout",
          "text": [
            "                            OLS Regression Results                            \n",
            "==============================================================================\n",
            "Dep. Variable:                      y   R-squared:                       0.062\n",
            "Model:                            OLS   Adj. R-squared:                  0.007\n",
            "Method:                 Least Squares   F-statistic:                     1.127\n",
            "Date:                Fri, 14 Oct 2022   Prob (F-statistic):              0.303\n",
            "Time:                        15:06:40   Log-Likelihood:                -80.024\n",
            "No. Observations:                  19   AIC:                             164.0\n",
            "Df Residuals:                      17   BIC:                             165.9\n",
            "Df Model:                           1                                         \n",
            "Covariance Type:            nonrobust                                         \n",
            "==============================================================================\n",
            "                 coef    std err          t      P>|t|      [0.025      0.975]\n",
            "------------------------------------------------------------------------------\n",
            "Intercept    -23.1222     91.542     -0.253      0.804    -216.259     170.014\n",
            "x              0.5906      0.556      1.061      0.303      -0.583       1.764\n",
            "==============================================================================\n",
            "Omnibus:                       17.414   Durbin-Watson:                   1.395\n",
            "Prob(Omnibus):                  0.000   Jarque-Bera (JB):               17.873\n",
            "Skew:                           1.738   Prob(JB):                     0.000131\n",
            "Kurtosis:                       6.240   Cond. No.                     3.80e+03\n",
            "==============================================================================\n",
            "\n",
            "Notes:\n",
            "[1] Standard Errors assume that the covariance matrix of the errors is correctly specified.\n",
            "[2] The condition number is large, 3.8e+03. This might indicate that there are\n",
            "strong multicollinearity or other numerical problems.\n"
          ]
        },
        {
          "output_type": "stream",
          "name": "stderr",
          "text": [
            "/usr/local/lib/python3.7/dist-packages/scipy/stats/stats.py:1542: UserWarning: kurtosistest only valid for n>=20 ... continuing anyway, n=19\n",
            "  \"anyway, n=%i\" % int(n))\n"
          ]
        }
      ]
    }
  ]
}