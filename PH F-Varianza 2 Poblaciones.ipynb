{
 "cells": [
  {
   "cell_type": "code",
   "execution_count": 49,
   "metadata": {},
   "outputs": [
    {
     "name": "stdout",
     "output_type": "stream",
     "text": [
      "Prueba de hipotesis de  1  cola.\n",
      "Nivel de significancia = 0.05\n",
      "F observado = 1.1180684754060781\n",
      "p valor =  0.34778951522440243\n",
      "No se rechaza la hipotesis nula\n"
     ]
    }
   ],
   "source": [
    "# F para varianza\n",
    "# Librerias\n",
    "import numpy as np\n",
    "from scipy import stats\n",
    "from scipy.stats import f\n",
    "from statsmodels.stats import weightstats as stests\n",
    "import statistics \n",
    "from statistics import stdev\n",
    "\n",
    "# Nivel de significancia\n",
    "alfa=0.05\n",
    "# Datos muestrales\n",
    "data1=[7.34,3.94,7.11,5.28,6.23,8.33,5.27,7.66,8.25,7.49,5.84,\n",
    "       7.27,6.74,7.04,6.75,4.89,6.49,6.67,8.5,6.08,4.3,5.01,5.74,\n",
    "       3.8,5.58,4.84,7.42,9.3,7.37,8.44,7.33,8.65,5.27,4.28,5.78,\n",
    "       4.6,4.7,4.8,4.99,5.86,6.88,7.87,8.5,4.28,7.34,4.67,3.75,\n",
    "       8.99,4.91,6.3,6.94,2.95,5.66]\n",
    "data2=[5.26,5.17,2.37,4.18,8.07,5.52,7.34,9.96,8.72,7.31,7.9,\n",
    "       3.45,8.6,5.67,8.09,4.79,5.51,7.81,5.21,6.88,4.18,6.32,\n",
    "       7.86,6.71,5.04,6.95,6.59,6.68,6.67,5.97,6.74,7.63,4.61,\n",
    "       7.37,5.24,6.1,5.48,6.4,7.23,7.02,7.46,7.41,7.03,5.49,\n",
    "       7.43,6.06,4.15,6.45,8.23,5.98]\n",
    "\n",
    "#sides -- 1: una cola; 2: dos colas\n",
    "sides=1\n",
    "\n",
    "def prueba_f(data1,data2,alfa,sides):\n",
    "    n1 = len(data1)\n",
    "    n2 = len(data2)\n",
    "    data1_mean = np.mean(data1)\n",
    "    data2_mean = np.mean(data2)\n",
    "    data1_sd = stdev( data1, data1_mean )\n",
    "    data2_sd = stdev( data2, data2_mean )\n",
    "    f_obs = data1_sd**2/data2_sd**2\n",
    "    p_value = f.sf(f_obs,n1-1,n2-1)*sides\n",
    "    if p_value > alfa:\n",
    "        conclusion='No se rechaza la hipotesis nula'\n",
    "    else:\n",
    "        conclusion='Se rechaza la hipotesis nula'\n",
    "    return f_obs,p_value,conclusion\n",
    "\n",
    "f_obs,p_value,conclusion = prueba_f(data1,data2,alfa,sides)\n",
    "\n",
    "print(\"Prueba de hipotesis de \",sides,\" cola.\")\n",
    "print(\"Nivel de significancia =\",alfa)\n",
    "print(\"F observado =\",f_obs)\n",
    "print(\"p valor = \",p_value)\n",
    "print(conclusion)\n"
   ]
  },
  {
   "cell_type": "code",
   "execution_count": null,
   "metadata": {},
   "outputs": [],
   "source": []
  }
 ],
 "metadata": {
  "kernelspec": {
   "display_name": "Python 3",
   "language": "python",
   "name": "python3"
  },
  "language_info": {
   "codemirror_mode": {
    "name": "ipython",
    "version": 3
   },
   "file_extension": ".py",
   "mimetype": "text/x-python",
   "name": "python",
   "nbconvert_exporter": "python",
   "pygments_lexer": "ipython3",
   "version": "3.7.6"
  }
 },
 "nbformat": 4,
 "nbformat_minor": 4
}
