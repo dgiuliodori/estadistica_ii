{
 "cells": [
  {
   "cell_type": "code",
   "execution_count": 10,
   "metadata": {},
   "outputs": [
    {
     "name": "stdout",
     "output_type": "stream",
     "text": [
      "Media Muestral = 9.918624999999999\n",
      "Varianza Muestral = 0.05856685326086955\n",
      "n Muestral\n",
      "Intervalo de confianza:  [ 0.03537794968269136 ; 0.11524418370529599 ]\n"
     ]
    }
   ],
   "source": [
    "# Librerias\n",
    "import numpy as np\n",
    "from scipy import stats\n",
    "from scipy.stats import chi2\n",
    "from statsmodels.stats import weightstats as stests\n",
    "import statistics \n",
    "from statistics import stdev\n",
    "\n",
    "# Nivel de confianza\n",
    "nivel_conf=0.95\n",
    "# Datos muestrales\n",
    "data=[9.252,9.604,9.618,9.688,9.7,9.932,10.115,9.958,10.03,\n",
    " 10.13,10.15,9.986,9.682,9.75,9.712,10.01,10.015,9.962,\n",
    " 10.19,10.13,10.285,9.998,10.11,10.04]\n",
    "\n",
    "def ic(data,nivel_conf):\n",
    "    n = len(data)\n",
    "    chi_1 = chi2.ppf(nivel_conf+(1-nivel_conf)/2,n-1)\n",
    "    chi_2 = chi2.ppf(1-(nivel_conf+(1-nivel_conf)/2),n-1)\n",
    "    data_mean = np.mean(data)\n",
    "    data_sd = stdev( data, data_mean )\n",
    "    var=data_sd**2\n",
    "    lim_inf=(n-1)*var/chi_1\n",
    "    lim_sup=(n-1)*var/chi_2\n",
    "    return lim_inf,lim_sup,data_mean,var,n\n",
    "\n",
    "lim_inf,lim_sup,data_mean,var,n = ic(data,nivel_conf)\n",
    "print(\"Media Muestral =\",data_mean)\n",
    "print(\"Varianza Muestral =\",var)\n",
    "print(\"n Muestral\")\n",
    "print(\"Intervalo de confianza: \",\"[\",lim_inf,\";\",lim_sup,\"]\")"
   ]
  },
  {
   "cell_type": "code",
   "execution_count": null,
   "metadata": {},
   "outputs": [],
   "source": []
  }
 ],
 "metadata": {
  "kernelspec": {
   "display_name": "Python 3",
   "language": "python",
   "name": "python3"
  },
  "language_info": {
   "codemirror_mode": {
    "name": "ipython",
    "version": 3
   },
   "file_extension": ".py",
   "mimetype": "text/x-python",
   "name": "python",
   "nbconvert_exporter": "python",
   "pygments_lexer": "ipython3",
   "version": "3.7.6"
  }
 },
 "nbformat": 4,
 "nbformat_minor": 4
}
