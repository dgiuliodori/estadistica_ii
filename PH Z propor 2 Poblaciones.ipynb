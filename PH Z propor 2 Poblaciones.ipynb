{
 "cells": [
  {
   "cell_type": "code",
   "execution_count": 13,
   "metadata": {},
   "outputs": [
    {
     "name": "stdout",
     "output_type": "stream",
     "text": [
      "Prueba de hipotesis de  2  cola.\n",
      "Nivel de significancia = 0.05\n",
      "Z observado = 2.367356623645556\n",
      "p valor =  0.01791566018303965\n",
      "Se rechaza la hipotesis nula\n"
     ]
    }
   ],
   "source": [
    "# Prueba Z para proporcion - dos muestra\n",
    "# Librerias\n",
    "import numpy as np\n",
    "from scipy import stats\n",
    "from scipy.stats import norm\n",
    "from statsmodels.stats import weightstats as stests\n",
    "import statistics \n",
    "from statistics import stdev\n",
    "\n",
    "# Diferencia de Proporciones bajo hipotesis nula (valor entre -1 y 1)\n",
    "difP0=0\n",
    "# Nivel de significancia\n",
    "alfa=0.05\n",
    "# Casos favorables (valor entero menor o igual a n)\n",
    "X1=25\n",
    "X2=12\n",
    "# n de las muestras\n",
    "n1=100\n",
    "n2=100\n",
    "\n",
    "#sides -- 1: una cola; 2: dos colas\n",
    "sides=2\n",
    "\n",
    "def prueba_z(X1,X2,n1,n2,P0,alfa,sides):\n",
    "    P1=X1/n1\n",
    "    P2=X2/n2\n",
    "    Pa=(n1*P1+n2*P2)/(n1+n2)\n",
    "    z_obs = ((P1-P2)-difP0)/(Pa*(1-Pa)*(1/n1+1/n2))**0.5 \n",
    "    p_value = norm.sf(abs(z_obs))*sides\n",
    "    if p_value > alfa:\n",
    "        conclusion='No se rechaza la hipotesis nula'\n",
    "    else:\n",
    "        conclusion='Se rechaza la hipotesis nula'\n",
    "    return z_obs,p_value,conclusion\n",
    "\n",
    "z_obs,p_value,conclusion = prueba_z(X1,X2,n1,n2,P0,alfa,sides)\n",
    "\n",
    "print(\"Prueba de hipotesis de \",sides,\" cola.\")\n",
    "print(\"Nivel de significancia =\",alfa)\n",
    "print(\"Z observado =\",z_obs)\n",
    "print(\"p valor = \",p_value)\n",
    "print(conclusion)"
   ]
  },
  {
   "cell_type": "code",
   "execution_count": null,
   "metadata": {},
   "outputs": [],
   "source": []
  }
 ],
 "metadata": {
  "kernelspec": {
   "display_name": "Python 3",
   "language": "python",
   "name": "python3"
  },
  "language_info": {
   "codemirror_mode": {
    "name": "ipython",
    "version": 3
   },
   "file_extension": ".py",
   "mimetype": "text/x-python",
   "name": "python",
   "nbconvert_exporter": "python",
   "pygments_lexer": "ipython3",
   "version": "3.7.6"
  }
 },
 "nbformat": 4,
 "nbformat_minor": 4
}
