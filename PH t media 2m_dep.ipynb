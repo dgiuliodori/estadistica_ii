{
 "cells": [
  {
   "cell_type": "code",
   "execution_count": 2,
   "metadata": {},
   "outputs": [
    {
     "name": "stdout",
     "output_type": "stream",
     "text": [
      "Prueba de hipotesis de  2  cola.\n",
      "Media Muestral 1 = 99.7\n",
      "Media Muestral 2 = 84.3\n",
      "S Muestral 1 = 7.789594198530356\n",
      "S Muestral 2 = 8.90754985641082\n",
      "n 1 = 10\n",
      "n 2 = 10\n",
      "Nivel de significancia = 0.05\n",
      "t observado = -0.9554249143896393\n",
      "p valor =  0.36431991451017365\n",
      "No se rechaza la hipotesis nula\n"
     ]
    }
   ],
   "source": [
    "# Prueba t dos muestras dependientes\n",
    "# Librerias\n",
    "from scipy.stats import ttest_1samp\n",
    "import numpy as np\n",
    "import statistics \n",
    "from statistics import stdev\n",
    "\n",
    "# Diferencia de media bajo hipotesis nula\n",
    "d0=17\n",
    "# Nivel de significancia\n",
    "alfa=0.05\n",
    "# Datos muestrales\n",
    "data1=[93,95,88,103,99,112,94,97,107,109]\n",
    "data2=[78,85,68, 81,89, 89,83,77, 96, 97]\n",
    "\n",
    "data=list(np.array(data1) - np.array(data2))\n",
    "\n",
    "#sides -- 1: dos colas; 2: una cola\n",
    "sides=1\n",
    "\n",
    "if sides==1:\n",
    "    colas=2\n",
    "else:\n",
    "    colas=1\n",
    "\n",
    "n1=len(data1)\n",
    "data1_mean = np.mean(data1)\n",
    "data1_sd = stdev( data1, data1_mean )\n",
    "\n",
    "n2=len(data2)\n",
    "data2_mean = np.mean(data2)\n",
    "data2_sd = stdev( data2, data2_mean )\n",
    "\n",
    "tset, p_value = ttest_1samp(data, d0)\n",
    "\n",
    "print(\"Prueba de hipotesis de \",colas,\" cola.\")\n",
    "print(\"Media Muestral 1 =\",data1_mean)\n",
    "print(\"Media Muestral 2 =\",data2_mean)\n",
    "print(\"S Muestral 1 =\",data1_sd)\n",
    "print(\"S Muestral 2 =\",data2_sd)\n",
    "print(\"n 1 =\",n1)\n",
    "print(\"n 2 =\",n2)\n",
    "print(\"Nivel de significancia =\",alfa)\n",
    "print(\"t observado =\",tset)\n",
    "print(\"p valor = \",p_value/sides)\n",
    "# Conclusion de la prueba de hipotesis\n",
    "if p_value/sides < alfa:    \n",
    "   print(\"Se rechaza la hipotesis nula\")\n",
    "else:\n",
    "  print(\"No se rechaza la hipotesis nula\")"
   ]
  },
  {
   "cell_type": "code",
   "execution_count": null,
   "metadata": {},
   "outputs": [],
   "source": []
  }
 ],
 "metadata": {
  "kernelspec": {
   "display_name": "Python 3",
   "language": "python",
   "name": "python3"
  },
  "language_info": {
   "codemirror_mode": {
    "name": "ipython",
    "version": 3
   },
   "file_extension": ".py",
   "mimetype": "text/x-python",
   "name": "python",
   "nbconvert_exporter": "python",
   "pygments_lexer": "ipython3",
   "version": "3.7.6"
  }
 },
 "nbformat": 4,
 "nbformat_minor": 4
}
