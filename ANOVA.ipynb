{
  "nbformat": 4,
  "nbformat_minor": 0,
  "metadata": {
    "kernelspec": {
      "display_name": "Python 3",
      "language": "python",
      "name": "python3"
    },
    "language_info": {
      "codemirror_mode": {
        "name": "ipython",
        "version": 3
      },
      "file_extension": ".py",
      "mimetype": "text/x-python",
      "name": "python",
      "nbconvert_exporter": "python",
      "pygments_lexer": "ipython3",
      "version": "3.7.6"
    },
    "colab": {
      "name": "ANOVA.ipynb",
      "provenance": []
    }
  },
  "cells": [
    {
      "cell_type": "code",
      "metadata": {
        "id": "wGLZSUJ0grLW",
        "outputId": "4f430893-688e-433a-fb5b-808b87401682"
      },
      "source": [
        "# Librerias\n",
        "import numpy as np\n",
        "from scipy import stats\n",
        "from scipy.stats import f\n",
        "from scipy.stats import f_oneway\n",
        "\n",
        "def sc(d):\n",
        "    mean=np.mean(d)\n",
        "    n = len(d)\n",
        "    d=(d-mean)**2\n",
        "    scd=d.sum(axis=0)\n",
        "    return scd, n, mean\n",
        "\n",
        "# Nivel de significancia\n",
        "alfa=0.05\n",
        "# Tratamientos\n",
        "tratamientos=3\n",
        "# Datos muestrales. Los arreglos deben comenzar en cero y ser consecutivos\n",
        "data0 = [4,6,7,7,5,4,4,5,6,4]\n",
        "data1 = [2,4,3,6,5,2,3]\n",
        "data2 = [10,8,7,5,7,6,5,4,6]\n",
        "\n",
        "#Suma de cuadrados\n",
        "scd=0\n",
        "gmedia=0\n",
        "N=0\n",
        "for x in range(tratamientos):\n",
        "    aux=scd\n",
        "    aux2=gmedia\n",
        "    aux3=N\n",
        "    locals()[\"scd\"+str(x)], locals()[\"n\"+str(x)], locals()[\"media\"+str(x)] = sc(locals()[\"data\"+str(x)])\n",
        "    scd=aux+locals()[\"scd\"+str(x)]\n",
        "    gmedia=aux2+locals()[\"n\"+str(x)]*locals()[\"media\"+str(x)]\n",
        "    N=aux3+locals()[\"n\"+str(x)]\n",
        "    \n",
        "gmedia=gmedia/N\n",
        "\n",
        "sce=0\n",
        "for x in range(tratamientos):\n",
        "    aux=sce\n",
        "    sce=aux+locals()[\"n\"+str(x)]*(locals()[\"media\"+str(x)]-gmedia)**2\n",
        "\n",
        "sct=scd+sce\n",
        "\n",
        "# Cuadrados medios\n",
        "cmd=scd/(N-tratamientos)\n",
        "cme=sce/(tratamientos-1)\n",
        "cmt=sct/(N-1)\n",
        "\n",
        "# Estadistico y p valor\n",
        "F_obs=cme/cmd\n",
        "p_valor = f.sf(F_obs,tratamientos-1,N-tratamientos)\n",
        "\n",
        "if p_valor > alfa:\n",
        "    conclusion='No se rechaza la hipotesis nula'\n",
        "else:\n",
        "    conclusion='Se rechaza la hipotesis nula'\n",
        "\n",
        "print(\"Tabla ANOVA\")\n",
        "print(\"=================================================================\")\n",
        "print(\"Variacion     |     SC    |  GL  |    CM    |    F    |   p-valor\")\n",
        "print(\"-----------------------------------------------------------------\")\n",
        "print(\"Entre Grupos  |  \", round(sce,4), \" | \", tratamientos-1, \"  | \", round(cme,4), \" | \" , round(F_obs,3), \" | \", round(p_valor,4))\n",
        "print(\"Dentro Grupos | \", round(scd,4), \" | \", N-tratamientos, \" | \", round(cmd,4))\n",
        "print(\"-----------------------------------------------------------------\")\n",
        "print(\"Total         | \", round(sct,4), \" | \", N-1, \" | \", round(cmt,4))\n",
        "print(\"=================================================================\")\n",
        "print(conclusion)"
      ],
      "execution_count": null,
      "outputs": [
        {
          "output_type": "stream",
          "text": [
            "Tabla ANOVA\n",
            "=================================================================\n",
            "Variación     |     SC    |  GL  |    CM    |    F    |   p-valor\n",
            "-----------------------------------------------------------------\n",
            "Entre Grupos  |   32.502  |  2   |  16.251  |  6.982  |  0.0043\n",
            "Dentro Grupos |  53.5365  |  23  |  2.3277\n",
            "-----------------------------------------------------------------\n",
            "Total         |  86.0385  |  25  |  3.4415\n",
            "=================================================================\n",
            "Se rechaza la hipotesis nula\n"
          ],
          "name": "stdout"
        }
      ]
    },
    {
      "cell_type": "code",
      "metadata": {
        "id": "5T5KSHoigrLb",
        "outputId": "33ef0a3c-9c33-4617-dd43-14eadb6db348"
      },
      "source": [
        "import pandas as pd\n",
        "from statsmodels.stats.multicomp import (pairwise_tukeyhsd,\n",
        "                                         MultiComparison)\n",
        "\n",
        "# Nivel de significancia\n",
        "alfa=0.05\n",
        "# Tratamientos\n",
        "tratamientos=3\n",
        "# Datos muestrales (completar con \n",
        "# np.nan para que todas las columnas tengan la misma dimensión)\n",
        "data0 = [4,6,7,7,5,4,4,5,6,4]\n",
        "data1 = [2,4,3,6,5,2,3,np.nan,np.nan,np.nan]\n",
        "data2 = [10,8,7,5,7,6,5,4,6,np.nan]\n",
        "\n",
        "df = pd.DataFrame()\n",
        "dim = pd.DataFrame()\n",
        "for x in range(tratamientos):\n",
        "    dim[x]=np.asarray(locals()['data'+str(x)]).shape\n",
        "    \n",
        "dim_max=dim.max(axis=1)\n",
        "\n",
        "for i in range(tratamientos):\n",
        "    for j in range(dim[i]):\n",
        "        if dim[i]!=dim_max:\n",
        "            locals()['data'+str(i)][]\n",
        "\n",
        "for x in range(tratamientos):\n",
        "    df['Tratamiento'+str(x)] = locals()[\"data\"+str(x)]\n",
        "\n",
        "stacked_data = df.stack().reset_index()\n",
        "stacked_data = stacked_data.rename(columns={'level_0': 'id',\n",
        "                                            'level_1': 'Tratamiento',\n",
        "                                            0:'Resultado'})\n",
        "\n",
        "MultiComp = MultiComparison(stacked_data['Resultado'],\n",
        "                            stacked_data['Tratamiento'])\n",
        "\n",
        "print(MultiComp.tukeyhsd(alpha=alfa).summary())\n"
      ],
      "execution_count": null,
      "outputs": [
        {
          "output_type": "stream",
          "text": [
            "      Multiple Comparison of Means - Tukey HSD, FWER=0.05      \n",
            "===============================================================\n",
            "   group1       group2    meandiff p-adj   lower  upper  reject\n",
            "---------------------------------------------------------------\n",
            "Tratamiento0 Tratamiento1  -1.6286 0.0986  -3.511 0.2539  False\n",
            "Tratamiento0 Tratamiento2   1.2444 0.2001 -0.5107 2.9996  False\n",
            "Tratamiento1 Tratamiento2    2.873  0.003   0.948 4.7981   True\n",
            "---------------------------------------------------------------\n"
          ],
          "name": "stdout"
        }
      ]
    }
  ]
}
